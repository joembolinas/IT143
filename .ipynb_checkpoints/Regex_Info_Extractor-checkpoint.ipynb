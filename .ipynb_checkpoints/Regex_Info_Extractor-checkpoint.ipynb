{
 "cells": [
  {
   "cell_type": "markdown",
   "id": "f791068e",
   "metadata": {},
   "source": [
    "# Practice Activity: Extracting Key Information Using Regular Expressions\n",
    "\n",
    "Objective:\n",
    "To build a Python GUI application using Tkinter that allows users to open a .txt file, display its content, and extract specific information (email addresses, phone numbers, dates) using regular expressions. The extracted information will be displayed and can be copied to the clipboard."
   ]
  },
  {
   "cell_type": "markdown",
   "id": "4d34bf07",
   "metadata": {},
   "source": [
    "## Prerequisites\n",
    "\n",
    "- Python IDE (e.g., Jupyter Notebook, PyCharm, VS Code).\n",
    "- Python installed.\n",
    "- The pyperclip library needs to be installed. Open your terminal or command prompt and run:\n",
    "\n",
    "```bash\n",
    "pip install pyperclip\n",
    "```"
   ]
  },
  {
   "cell_type": "markdown",
   "id": "1ac6e2b5",
   "metadata": {},
   "source": [
    "## Step 1: Import Required Libraries\n",
    "\n",
    "Create a new Python file (e.g., app.py). Start by importing the necessary libraries:\n",
    "\n",
    "- `tkinter (as tk)`: For creating the Graphical User Interface (GUI).\n",
    "- `filedialog`: For the file open dialog.\n",
    "- `scrolledtext`: For a scrollable text area to display file content and results.\n",
    "- `messagebox`: For pop-up messages (errors, confirmations).\n",
    "- `ttk`: For themed Tkinter widgets like the Combobox (dropdown menu).\n",
    "- `re`: The Regular Expressions module for pattern matching.\n",
    "- `pyperclip`: To enable copying text to the clipboard."
   ]
  },
  {
   "cell_type": "code",
   "execution_count": null,
   "id": "124154ad",
   "metadata": {},
   "outputs": [],
   "source": [
    "import tkinter as tk\n",
    "from tkinter import filedialog, scrolledtext, messagebox, ttk\n",
    "import re\n",
    "import pyperclip # For copying extracted results"
   ]
  },
  {
   "cell_type": "markdown",
   "id": "b93b8676",
   "metadata": {},
   "source": [
    "## Step 2: Initialize the Main GUI Window\n",
    "\n",
    "Create the main application window and set its properties:"
   ]
  },
  {
   "cell_type": "code",
   "execution_count": null,
   "id": "fcf673d7",
   "metadata": {},
   "outputs": [],
   "source": [
    "# Create main application window\n",
    "root = tk.Tk()\n",
    "root.title(\"Regex Information Extractor\")\n",
    "root.geometry(\"700x500\") # 700 pixels width x 500 pixels height"
   ]
  },
  {
   "cell_type": "markdown",
   "id": "64162ba3",
   "metadata": {},
   "source": [
    "## Step 3: Define Core Functions\n",
    "\n",
    "### a. Function to Open and Read a File (open_file)\n",
    "This function will handle opening a .txt file, reading its content, and displaying it in a text area."
   ]
  },
  {
   "cell_type": "code",
   "execution_count": null,
   "id": "9fd5094c",
   "metadata": {},
   "outputs": [],
   "source": [
    "def open_file():\n",
    "    file_path = filedialog.askopenfilename(filetypes=[(\"Text files\", \"*.txt\")])\n",
    "    if file_path:\n",
    "        try:\n",
    "            with open(file_path, \"r\", encoding=\"utf-8\") as file:\n",
    "                text_content = file.read()\n",
    "            text_area.delete(\"1.0\", tk.END) # Clear previous content\n",
    "            text_area.insert(tk.END, text_content)\n",
    "            label_status.config(text=f\"Loaded: {file_path}\")\n",
    "        except Exception as e:\n",
    "            messagebox.showerror(\"Error\", f\"Failed to read file: {e}\")\n",
    "            label_status.config(text=\"Error loading file\")"
   ]
  },
  {
   "cell_type": "markdown",
   "id": "b23ffc89",
   "metadata": {},
   "source": [
    "### b. Function to Extract Information Using Regex (extract_info)\n",
    "This function will retrieve text from the display area, use a selected regex pattern to find matches, and display the results."
   ]
  },
  {
   "cell_type": "code",
   "execution_count": null,
   "id": "2b95dea3",
   "metadata": {},
   "outputs": [],
   "source": [
    "def extract_info():\n",
    "    text_content = text_area.get(\"1.0\", tk.END)\n",
    "    selected_option = extract_option.get()\n",
    "\n",
    "    regex_patterns = {\n",
    "        \"Email Addresses\": r\"\\b[A-Za-z0-9._%+-]+@[A-Za-z0-9.-]+\\.[A-Za-z]{2,}\\b\",\n",
    "        \"Phone Numbers\": r\"\\+?\\d{1,3}[-.\\s]?\\(?\\d{1,4}\\)?[-.\\s]?\\d{3}[-.\\s]?\\d{4}\",\n",
    "        \"Dates\": r\"\\b\\d{1,2}[-/]\\d{1,2}[-/]\\d{2,4}\\b\" # Matches MM/DD/YYYY, DD-MM-YYYY etc.\n",
    "    }\n",
    "\n",
    "    pattern = regex_patterns.get(selected_option)\n",
    "    if not pattern:\n",
    "        messagebox.showerror(\"Error\", \"Invalid selection.\")\n",
    "        return\n",
    "\n",
    "    matches = re.findall(pattern, text_content)\n",
    "\n",
    "    result_area.delete(\"1.0\", tk.END) # Clear previous results\n",
    "    if matches:\n",
    "        result_area.insert(tk.END, \"\\n\".join(matches))\n",
    "    else:\n",
    "        result_area.insert(tk.END, \"No matches found.\")"
   ]
  },
  {
   "cell_type": "markdown",
   "id": "808b95da",
   "metadata": {},
   "source": [
    "### c. Function to Copy Extracted Results (copy_results)\n",
    "This function will copy the content of the results area to the system clipboard."
   ]
  },
  {
   "cell_type": "code",
   "execution_count": null,
   "id": "ff1e30ef",
   "metadata": {},
   "outputs": [],
   "source": [
    "def copy_results():\n",
    "    extracted_text = result_area.get(\"1.0\", tk.END).strip()\n",
    "    if extracted_text and extracted_text != \"No matches found.\":\n",
    "        pyperclip.copy(extracted_text)\n",
    "        messagebox.showinfo(\"Copied\", \"Extracted information copied to clipboard!\")\n",
    "    else:\n",
    "        messagebox.showwarning(\"Warning\", \"No extracted data to copy.\")"
   ]
  },
  {
   "cell_type": "markdown",
   "id": "f308baf2",
   "metadata": {},
   "source": [
    "## Step 4: Create and Add GUI Components\n",
    "\n",
    "### a. File Selection Button"
   ]
  },
  {
   "cell_type": "code",
   "execution_count": null,
   "id": "3e2a38c9",
   "metadata": {},
   "outputs": [],
   "source": [
    "btn_open = tk.Button(root, text=\"Open File\", command=open_file)\n",
    "btn_open.pack(pady=5)"
   ]
  },
  {
   "cell_type": "markdown",
   "id": "5b98f923",
   "metadata": {},
   "source": [
    "### b. Scrollable Text Area for File Content"
   ]
  },
  {
   "cell_type": "code",
   "execution_count": null,
   "id": "733b0a24",
   "metadata": {},
   "outputs": [],
   "source": [
    "text_area = scrolledtext.ScrolledText(root, wrap=tk.WORD, width=80, height=12)\n",
    "text_area.pack(pady=5)"
   ]
  },
  {
   "cell_type": "markdown",
   "id": "5f270235",
   "metadata": {},
   "source": [
    "### c. Dropdown Menu for Extraction Options"
   ]
  },
  {
   "cell_type": "code",
   "execution_count": null,
   "id": "6b07d3d1",
   "metadata": {},
   "outputs": [],
   "source": [
    "dropdown_label = tk.Label(root, text=\"Select Data Type to Extract:\")\n",
    "dropdown_label.pack()\n",
    "\n",
    "extract_option = tk.StringVar()\n",
    "# Set default value\n",
    "extract_option.set(\"Email Addresses\")\n",
    "options = [\"Email Addresses\", \"Phone Numbers\", \"Dates\"]\n",
    "dropdown_menu = ttk.Combobox(root, textvariable=extract_option, values=options, state=\"readonly\")\n",
    "dropdown_menu.pack(pady=5)"
   ]
  },
  {
   "cell_type": "markdown",
   "id": "49fa0a47",
   "metadata": {},
   "source": [
    "### d. Extract Button"
   ]
  },
  {
   "cell_type": "code",
   "execution_count": null,
   "id": "b817cd9f",
   "metadata": {},
   "outputs": [],
   "source": [
    "btn_extract = tk.Button(root, text=\"Extract\", command=extract_info)\n",
    "btn_extract.pack(pady=5)"
   ]
  },
  {
   "cell_type": "markdown",
   "id": "32b5b064",
   "metadata": {},
   "source": [
    "### e. Result Display Area"
   ]
  },
  {
   "cell_type": "code",
   "execution_count": null,
   "id": "316bd9c9",
   "metadata": {},
   "outputs": [],
   "source": [
    "result_area = scrolledtext.ScrolledText(root, wrap=tk.WORD, width=80, height=8)\n",
    "result_area.pack(pady=5)"
   ]
  },
  {
   "cell_type": "markdown",
   "id": "06e74a8d",
   "metadata": {},
   "source": [
    "### f. Copy to Clipboard Button"
   ]
  },
  {
   "cell_type": "code",
   "execution_count": null,
   "id": "0d4295c4",
   "metadata": {},
   "outputs": [],
   "source": [
    "btn_copy = tk.Button(root, text=\"Copy Results\", command=copy_results)\n",
    "btn_copy.pack(pady=5)"
   ]
  },
  {
   "cell_type": "markdown",
   "id": "772aadd5",
   "metadata": {},
   "source": [
    "### g. Status Label for File Name"
   ]
  },
  {
   "cell_type": "code",
   "execution_count": null,
   "id": "288e439e",
   "metadata": {},
   "outputs": [],
   "source": [
    "label_status = tk.Label(root, text=\"No file loaded\", fg=\"blue\")\n",
    "label_status.pack(pady=5)"
   ]
  },
  {
   "cell_type": "markdown",
   "id": "f034bbb2",
   "metadata": {},
   "source": [
    "## Step 5: Run the Application\n",
    "\n",
    "Start the Tkinter event loop to make the GUI active and responsive."
   ]
  },
  {
   "cell_type": "code",
   "execution_count": null,
   "id": "97c822e2",
   "metadata": {},
   "outputs": [],
   "source": [
    "# Run the application\n",
    "root.mainloop()"
   ]
  },
  {
   "cell_type": "markdown",
   "id": "0472e8a7",
   "metadata": {},
   "source": [
    "## Step 6: Test the Application\n",
    "\n",
    "1. Save your Python script (e.g., app.py).\n",
    "2. Run the script from your terminal: `python app.py`.\n",
    "3. The GUI window \"Regex Information Extractor\" should appear.\n",
    "4. Click \"Open File\" and select a .txt file (you can use the sample_file.txt if one was provided with the activity, or create your own with some emails, phone numbers, and dates).\n",
    "5. The file content should appear in the top text area.\n",
    "6. Select an option from the \"Select Data Type to Extract:\" dropdown (e.g., \"Email Addresses\").\n",
    "7. Click the \"Extract\" button.\n",
    "8. The extracted information (or \"No matches found.\") should appear in the lower text area.\n",
    "9. Click \"Copy Results\" to copy the extracted text to your clipboard. A confirmation message should appear.\n",
    "10. Test with other extraction types and different files."
   ]
  }
 ],
 "metadata": {
  "language_info": {
   "name": "python"
  }
 },
 "nbformat": 4,
 "nbformat_minor": 5
}
