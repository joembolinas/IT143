{
 "cells": [
  {
   "cell_type": "markdown",
   "id": "c9f107df",
   "metadata": {},
   "source": [
    "## File Type\n",
    "\n",
    "This notebook is an `.ipynb` Jupyter Notebook file, which uses an XML-based cell structure in VS Code. It is not a `.json` file, but Jupyter Notebooks are typically stored in JSON format. In VS Code, each cell is represented in an XML-like format for editing and versioning."
   ]
  },
  {
   "cell_type": "markdown",
   "id": "f791068e",
   "metadata": {},
   "source": [
    "# Practice Activity: Extracting Key Information Using Regular Expressions\n",
    "\n",
    "Objective:\n",
    "To build a Python GUI application using Tkinter that allows users to open a .txt file, display its content, and extract specific information (email addresses, phone numbers, dates) using regular expressions. The extracted information will be displayed and can be copied to the clipboard."
   ]
  },
  {
   "cell_type": "markdown",
   "id": "4d34bf07",
   "metadata": {},
   "source": [
    "## Prerequisites\n",
    "\n",
    "- Python IDE (e.g., Jupyter Notebook, PyCharm, VS Code).\n",
    "- Python installed.\n",
    "- The pyperclip library needs to be installed. Open your terminal or command prompt and run:\n",
    "\n",
    "```bash\n",
    "pip install pyperclip\n",
    "```"
   ]
  },
  {
   "cell_type": "markdown",
   "id": "1ac6e2b5",
   "metadata": {},
   "source": [
    "## Step 1: Import Required Libraries\n",
    "\n",
    "Create a new Python file (e.g., app.py). Start by importing the necessary libraries:\n",
    "\n",
    "- `tkinter (as tk)`: For creating the Graphical User Interface (GUI).\n",
    "- `filedialog`: For the file open dialog.\n",
    "- `scrolledtext`: For a scrollable text area to display file content and results.\n",
    "- `messagebox`: For pop-up messages (errors, confirmations).\n",
    "- `ttk`: For themed Tkinter widgets like the Combobox (dropdown menu).\n",
    "- `re`: The Regular Expressions module for pattern matching.\n",
    "- `pyperclip`: To enable copying text to the clipboard."
   ]
  },
  {
   "cell_type": "code",
   "execution_count": 1,
   "id": "124154ad",
   "metadata": {},
   "outputs": [],
   "source": [
    "import tkinter as tk\n",
    "from tkinter import filedialog, scrolledtext, messagebox, ttk\n",
    "import re\n",
    "import pyperclip # For copying extracted results"
   ]
  },
  {
   "cell_type": "markdown",
   "id": "b93b8676",
   "metadata": {},
   "source": [
    "## Step 2: Initialize the Main GUI Window\n",
    "\n",
    "Create the main application window and set its properties:"
   ]
  },
  {
   "cell_type": "code",
   "execution_count": 2,
   "id": "fcf673d7",
   "metadata": {},
   "outputs": [
    {
     "data": {
      "text/plain": [
       "''"
      ]
     },
     "execution_count": 2,
     "metadata": {},
     "output_type": "execute_result"
    }
   ],
   "source": [
    "# Create main application window\n",
    "root = tk.Tk()\n",
    "root.title(\"Regex Information Extractor\")\n",
    "root.geometry(\"700x500\") # 700 pixels width x 500 pixels height"
   ]
  },
  {
   "cell_type": "markdown",
   "id": "64162ba3",
   "metadata": {},
   "source": [
    "## Step 3: Define Core Functions\n",
    "\n",
    "### a. Function to Open and Read a File (open_file)\n",
    "This function will handle opening a .txt file, reading its content, and displaying it in a text area."
   ]
  },
  {
   "cell_type": "code",
   "execution_count": 3,
   "id": "9fd5094c",
   "metadata": {},
   "outputs": [],
   "source": [
    "def open_file():\n",
    "    file_path = filedialog.askopenfilename(filetypes=[\n",
    "        (\"Text files\", \"*.txt\"),\n",
    "        (\"JSON files\", \"*.json\"),\n",
    "        (\"CSV files\", \"*.csv\"),\n",
    "        (\"All files\", \"*.*\")\n",
    "    ])\n",
    "    if file_path:\n",
    "        try:\n",
    "            with open(file_path, \"r\", encoding=\"utf-8\") as file:\n",
    "                text_content = file.read()\n",
    "            text_area.delete(\"1.0\", tk.END) # Clear previous content\n",
    "            text_area.insert(tk.END, text_content)\n",
    "            label_status.config(text=f\"Loaded: {file_path}\")\n",
    "        except Exception as e:\n",
    "            messagebox.showerror(\"Error\", f\"Failed to read file: {e}\")\n",
    "            label_status.config(text=\"Error loading file\")"
   ]
  },
  {
   "cell_type": "markdown",
   "id": "b23ffc89",
   "metadata": {},
   "source": [
    "### b. Function to Extract Information Using Regex (extract_info)\n",
    "This function will retrieve text from the display area, use a selected regex pattern to find matches, and display the results."
   ]
  },
  {
   "cell_type": "code",
   "execution_count": 4,
   "id": "2b95dea3",
   "metadata": {},
   "outputs": [],
   "source": [
    "def extract_info():\n",
    "    text_content = text_area.get(\"1.0\", tk.END)\n",
    "    selected_option = extract_option.get()\n",
    "\n",
    "    regex_patterns = {\n",
    "        \"Email Addresses\": r\"\\b[A-Za-z0-9._%+-]+@[A-Za-z0-9.-]+\\.[A-Za-z]{2,}\\b\",\n",
    "        \"Phone Numbers\": r\"\\+?\\d{1,3}[-.\\s]?\\(?\\d{1,4}\\)?[-.\\s]?\\d{3}[-.\\s]?\\d{4}\",\n",
    "        \"Dates\": r\"\\b\\d{1,2}[-/]\\d{1,2}[-/]\\d{2,4}\\b\", # Matches MM/DD/YYYY, DD-MM-YYYY etc.\n",
    "        \"flagged\": r\"\\b(?:flagged|flag)\\b\",\n",
    "        \"URLs\": r\"http[s]?://(?:[a-zA-Z]|[0-9]|[$-_@.&+]|[!*\\\\(\\\\),]|(?:%[0-9a-fA-F][0-9a-fA-F]))+\"\n",
    "    }\n",
    "\n",
    "    if selected_option == \"Messages with flagged True (JSON)\":\n",
    "        import json\n",
    "        try:\n",
    "            data = json.loads(text_content)\n",
    "            messages = []\n",
    "            if isinstance(data, list):\n",
    "                messages = [item[\"message\"] for item in data if item.get(\"flagged\") is True and \"message\" in item]\n",
    "            elif isinstance(data, dict):\n",
    "                for v in data.values():\n",
    "                    if isinstance(v, list):\n",
    "                        messages.extend([item[\"message\"] for item in v if isinstance(item, dict) and item.get(\"flagged\") is True and \"message\" in item])\n",
    "        except Exception as e:\n",
    "            result_area.delete(\"1.0\", tk.END)\n",
    "            result_area.insert(tk.END, f\"Error parsing JSON: {e}\")\n",
    "            return\n",
    "        result_area.delete(\"1.0\", tk.END)\n",
    "        if messages:\n",
    "            result_area.insert(tk.END, \"\\n\".join(messages))\n",
    "        else:\n",
    "            result_area.insert(tk.END, \"No flagged messages found.\")\n",
    "        return\n",
    "\n",
    "    if selected_option == \"Decoded FLAGs from flagged JSON (base64)\":\n",
    "        import json, base64, re\n",
    "        try:\n",
    "            data = json.loads(text_content)\n",
    "            flags = []\n",
    "            if isinstance(data, list):\n",
    "                entries = data\n",
    "            elif isinstance(data, dict):\n",
    "                entries = []\n",
    "                for v in data.values():\n",
    "                    if isinstance(v, list):\n",
    "                        entries.extend(v)\n",
    "            else:\n",
    "                entries = []\n",
    "            for entry in entries:\n",
    "                if entry.get(\"flagged\") and \"message\" in entry:\n",
    "                    encoded_msg = entry[\"message\"]\n",
    "                    try:\n",
    "                        decoded_bytes = base64.b64decode(encoded_msg)\n",
    "                        decoded_msg = decoded_bytes.decode('utf-8')\n",
    "                        match = re.search(r'FLAG\\{.*?\\}', decoded_msg)\n",
    "                        if match:\n",
    "                            flags.append(match.group())\n",
    "                    except Exception as e:\n",
    "                        continue\n",
    "        except Exception as e:\n",
    "            result_area.delete(\"1.0\", tk.END)\n",
    "            result_area.insert(tk.END, f\"Error parsing/decoding JSON: {e}\")\n",
    "            return\n",
    "        result_area.delete(\"1.0\", tk.END)\n",
    "        if flags:\n",
    "            result_area.insert(tk.END, \"\\n\".join(flags))\n",
    "        else:\n",
    "            result_area.insert(tk.END, \"No decoded FLAGs found.\")\n",
    "        return\n",
    "\n",
    "    pattern = regex_patterns.get(selected_option)\n",
    "    if not pattern:\n",
    "        messagebox.showerror(\"Error\", \"Invalid selection.\")\n",
    "        return\n",
    "\n",
    "    matches = re.findall(pattern, text_content)\n",
    "\n",
    "    result_area.delete(\"1.0\", tk.END) # Clear previous results\n",
    "    if matches:\n",
    "        result_area.insert(tk.END, \"\\n\".join(matches))\n",
    "    else:\n",
    "        result_area.insert(tk.END, \"No matches found.\")"
   ]
  },
  {
   "cell_type": "markdown",
   "id": "808b95da",
   "metadata": {},
   "source": [
    "### c. Function to Copy Extracted Results (copy_results)\n",
    "This function will copy the content of the results area to the system clipboard."
   ]
  },
  {
   "cell_type": "code",
   "execution_count": 5,
   "id": "ff1e30ef",
   "metadata": {},
   "outputs": [],
   "source": [
    "def copy_results():\n",
    "    extracted_text = result_area.get(\"1.0\", tk.END).strip()\n",
    "    if extracted_text and extracted_text != \"No matches found.\":\n",
    "        pyperclip.copy(extracted_text)\n",
    "        messagebox.showinfo(\"Copied\", \"Extracted information copied to clipboard!\")\n",
    "    else:\n",
    "        messagebox.showwarning(\"Warning\", \"No extracted data to copy.\")"
   ]
  },
  {
   "cell_type": "markdown",
   "id": "f308baf2",
   "metadata": {},
   "source": [
    "## Step 4: Create and Add GUI Components\n",
    "\n",
    "### a. File Selection Button"
   ]
  },
  {
   "cell_type": "code",
   "execution_count": 6,
   "id": "3e2a38c9",
   "metadata": {},
   "outputs": [],
   "source": [
    "btn_open = tk.Button(root, text=\"Open File\", command=open_file)\n",
    "btn_open.pack(pady=5)"
   ]
  },
  {
   "cell_type": "markdown",
   "id": "5b98f923",
   "metadata": {},
   "source": [
    "### b. Scrollable Text Area for File Content"
   ]
  },
  {
   "cell_type": "code",
   "execution_count": 7,
   "id": "733b0a24",
   "metadata": {},
   "outputs": [],
   "source": [
    "text_area = scrolledtext.ScrolledText(root, wrap=tk.WORD, width=80, height=12)\n",
    "text_area.pack(pady=5)"
   ]
  },
  {
   "cell_type": "markdown",
   "id": "5f270235",
   "metadata": {},
   "source": [
    "### c. Dropdown Menu for Extraction Options"
   ]
  },
  {
   "cell_type": "code",
   "execution_count": 8,
   "id": "6b07d3d1",
   "metadata": {},
   "outputs": [],
   "source": [
    "if root.winfo_exists():  # Check if the root window is still active\n",
    "\tdropdown_label = tk.Label(root, text=\"Select Data Type to Extract:\")\n",
    "\tdropdown_label.pack()\n",
    "\n",
    "\textract_option = tk.StringVar()\n",
    "\t# Set default value\n",
    "\textract_option.set(\"Email Addresses\")\n",
    "\toptions = [\n",
    "        \"Email Addresses\",\n",
    "        \"Phone Numbers\",\n",
    "        \"Dates\",\n",
    "        \"flagged\",\n",
    "        \"URLs\",\n",
    "        \"Messages with flagged True (JSON)\",\n",
    "        \"Decoded FLAGs from flagged JSON (base64)\"\n",
    "    ]\n",
    "\tdropdown_menu = ttk.Combobox(root, textvariable=extract_option, values=options, state=\"readonly\")\n",
    "\tdropdown_menu.pack(pady=5)\n",
    "else:\n",
    "\tprint(\"The application window has been closed. Cannot create widgets.\")"
   ]
  },
  {
   "cell_type": "markdown",
   "id": "49fa0a47",
   "metadata": {},
   "source": [
    "### d. Extract Button"
   ]
  },
  {
   "cell_type": "code",
   "execution_count": 9,
   "id": "b817cd9f",
   "metadata": {},
   "outputs": [],
   "source": [
    "btn_extract = tk.Button(root, text=\"Extract\", command=extract_info)\n",
    "btn_extract.pack(pady=5)"
   ]
  },
  {
   "cell_type": "markdown",
   "id": "32b5b064",
   "metadata": {},
   "source": [
    "### e. Result Display Area"
   ]
  },
  {
   "cell_type": "code",
   "execution_count": 10,
   "id": "316bd9c9",
   "metadata": {},
   "outputs": [],
   "source": [
    "result_area = scrolledtext.ScrolledText(root, wrap=tk.WORD, width=80, height=8)\n",
    "result_area.pack(pady=5)"
   ]
  },
  {
   "cell_type": "markdown",
   "id": "06e74a8d",
   "metadata": {},
   "source": [
    "### f. Copy to Clipboard Button"
   ]
  },
  {
   "cell_type": "code",
   "execution_count": 11,
   "id": "0d4295c4",
   "metadata": {},
   "outputs": [],
   "source": [
    "btn_copy = tk.Button(root, text=\"Copy Results\", command=copy_results)\n",
    "btn_copy.pack(pady=5)"
   ]
  },
  {
   "cell_type": "markdown",
   "id": "772aadd5",
   "metadata": {},
   "source": [
    "### g. Status Label for File Name"
   ]
  },
  {
   "cell_type": "code",
   "execution_count": 12,
   "id": "288e439e",
   "metadata": {},
   "outputs": [],
   "source": [
    "label_status = tk.Label(root, text=\"No file loaded\", fg=\"blue\")\n",
    "label_status.pack(pady=5)"
   ]
  },
  {
   "cell_type": "markdown",
   "id": "f034bbb2",
   "metadata": {},
   "source": [
    "## Step 5: Run the Application\n",
    "\n",
    "Start the Tkinter event loop to make the GUI active and responsive."
   ]
  },
  {
   "cell_type": "code",
   "execution_count": 13,
   "id": "97c822e2",
   "metadata": {},
   "outputs": [
    {
     "name": "stderr",
     "output_type": "stream",
     "text": [
      "Exception in Tkinter callback\n",
      "Traceback (most recent call last):\n",
      "  File \"C:\\Users\\ADMIN\\AppData\\Local\\Programs\\Python\\Python313\\Lib\\tkinter\\__init__.py\", line 2068, in __call__\n",
      "    return self.func(*args)\n",
      "           ~~~~~~~~~^^^^^^^\n",
      "  File \"C:\\Users\\ADMIN\\AppData\\Local\\Temp\\ipykernel_17760\\141964668.py\", line 76, in extract_info\n",
      "    matches = re.findall(pattern, text_content)\n",
      "              ^^\n",
      "UnboundLocalError: cannot access local variable 're' where it is not associated with a value\n",
      "Exception in Tkinter callback\n",
      "Traceback (most recent call last):\n",
      "  File \"C:\\Users\\ADMIN\\AppData\\Local\\Programs\\Python\\Python313\\Lib\\tkinter\\__init__.py\", line 2068, in __call__\n",
      "    return self.func(*args)\n",
      "           ~~~~~~~~~^^^^^^^\n",
      "  File \"C:\\Users\\ADMIN\\AppData\\Local\\Temp\\ipykernel_17760\\141964668.py\", line 76, in extract_info\n",
      "    matches = re.findall(pattern, text_content)\n",
      "              ^^\n",
      "UnboundLocalError: cannot access local variable 're' where it is not associated with a value\n",
      "Exception in Tkinter callback\n",
      "Traceback (most recent call last):\n",
      "  File \"C:\\Users\\ADMIN\\AppData\\Local\\Programs\\Python\\Python313\\Lib\\tkinter\\__init__.py\", line 2068, in __call__\n",
      "    return self.func(*args)\n",
      "           ~~~~~~~~~^^^^^^^\n",
      "  File \"C:\\Users\\ADMIN\\AppData\\Local\\Temp\\ipykernel_17760\\141964668.py\", line 76, in extract_info\n",
      "    matches = re.findall(pattern, text_content)\n",
      "              ^^\n",
      "UnboundLocalError: cannot access local variable 're' where it is not associated with a value\n",
      "Exception in Tkinter callback\n",
      "Traceback (most recent call last):\n",
      "  File \"C:\\Users\\ADMIN\\AppData\\Local\\Programs\\Python\\Python313\\Lib\\tkinter\\__init__.py\", line 2068, in __call__\n",
      "    return self.func(*args)\n",
      "           ~~~~~~~~~^^^^^^^\n",
      "  File \"C:\\Users\\ADMIN\\AppData\\Local\\Temp\\ipykernel_17760\\141964668.py\", line 76, in extract_info\n",
      "    matches = re.findall(pattern, text_content)\n",
      "              ^^\n",
      "UnboundLocalError: cannot access local variable 're' where it is not associated with a value\n",
      "Exception in Tkinter callback\n",
      "Traceback (most recent call last):\n",
      "  File \"C:\\Users\\ADMIN\\AppData\\Local\\Programs\\Python\\Python313\\Lib\\tkinter\\__init__.py\", line 2068, in __call__\n",
      "    return self.func(*args)\n",
      "           ~~~~~~~~~^^^^^^^\n",
      "  File \"C:\\Users\\ADMIN\\AppData\\Local\\Temp\\ipykernel_17760\\141964668.py\", line 76, in extract_info\n",
      "    matches = re.findall(pattern, text_content)\n",
      "              ^^\n",
      "UnboundLocalError: cannot access local variable 're' where it is not associated with a value\n",
      "Exception in Tkinter callback\n",
      "Traceback (most recent call last):\n",
      "  File \"C:\\Users\\ADMIN\\AppData\\Local\\Programs\\Python\\Python313\\Lib\\tkinter\\__init__.py\", line 2068, in __call__\n",
      "    return self.func(*args)\n",
      "           ~~~~~~~~~^^^^^^^\n",
      "  File \"C:\\Users\\ADMIN\\AppData\\Local\\Temp\\ipykernel_17760\\141964668.py\", line 76, in extract_info\n",
      "    matches = re.findall(pattern, text_content)\n",
      "              ^^\n",
      "UnboundLocalError: cannot access local variable 're' where it is not associated with a value\n",
      "Exception in Tkinter callback\n",
      "Traceback (most recent call last):\n",
      "  File \"C:\\Users\\ADMIN\\AppData\\Local\\Programs\\Python\\Python313\\Lib\\tkinter\\__init__.py\", line 2068, in __call__\n",
      "    return self.func(*args)\n",
      "           ~~~~~~~~~^^^^^^^\n",
      "  File \"C:\\Users\\ADMIN\\AppData\\Local\\Temp\\ipykernel_17760\\141964668.py\", line 76, in extract_info\n",
      "    matches = re.findall(pattern, text_content)\n",
      "              ^^\n",
      "UnboundLocalError: cannot access local variable 're' where it is not associated with a value\n",
      "Exception in Tkinter callback\n",
      "Traceback (most recent call last):\n",
      "  File \"C:\\Users\\ADMIN\\AppData\\Local\\Programs\\Python\\Python313\\Lib\\tkinter\\__init__.py\", line 2068, in __call__\n",
      "    return self.func(*args)\n",
      "           ~~~~~~~~~^^^^^^^\n",
      "  File \"C:\\Users\\ADMIN\\AppData\\Local\\Temp\\ipykernel_17760\\141964668.py\", line 76, in extract_info\n",
      "    matches = re.findall(pattern, text_content)\n",
      "              ^^\n",
      "UnboundLocalError: cannot access local variable 're' where it is not associated with a value\n",
      "Exception in Tkinter callback\n",
      "Traceback (most recent call last):\n",
      "  File \"C:\\Users\\ADMIN\\AppData\\Local\\Programs\\Python\\Python313\\Lib\\tkinter\\__init__.py\", line 2068, in __call__\n",
      "    return self.func(*args)\n",
      "           ~~~~~~~~~^^^^^^^\n",
      "  File \"C:\\Users\\ADMIN\\AppData\\Local\\Temp\\ipykernel_17760\\141964668.py\", line 76, in extract_info\n",
      "    matches = re.findall(pattern, text_content)\n",
      "              ^^\n",
      "UnboundLocalError: cannot access local variable 're' where it is not associated with a value\n",
      "Exception in Tkinter callback\n",
      "Traceback (most recent call last):\n",
      "  File \"C:\\Users\\ADMIN\\AppData\\Local\\Programs\\Python\\Python313\\Lib\\tkinter\\__init__.py\", line 2068, in __call__\n",
      "    return self.func(*args)\n",
      "           ~~~~~~~~~^^^^^^^\n",
      "  File \"C:\\Users\\ADMIN\\AppData\\Local\\Temp\\ipykernel_17760\\141964668.py\", line 76, in extract_info\n",
      "    matches = re.findall(pattern, text_content)\n",
      "              ^^\n",
      "UnboundLocalError: cannot access local variable 're' where it is not associated with a value\n",
      "Exception in Tkinter callback\n",
      "Traceback (most recent call last):\n",
      "  File \"C:\\Users\\ADMIN\\AppData\\Local\\Programs\\Python\\Python313\\Lib\\tkinter\\__init__.py\", line 2068, in __call__\n",
      "    return self.func(*args)\n",
      "           ~~~~~~~~~^^^^^^^\n",
      "  File \"C:\\Users\\ADMIN\\AppData\\Local\\Temp\\ipykernel_17760\\141964668.py\", line 76, in extract_info\n",
      "    matches = re.findall(pattern, text_content)\n",
      "              ^^\n",
      "UnboundLocalError: cannot access local variable 're' where it is not associated with a value\n",
      "Exception in Tkinter callback\n",
      "Traceback (most recent call last):\n",
      "  File \"C:\\Users\\ADMIN\\AppData\\Local\\Programs\\Python\\Python313\\Lib\\tkinter\\__init__.py\", line 2068, in __call__\n",
      "    return self.func(*args)\n",
      "           ~~~~~~~~~^^^^^^^\n",
      "  File \"C:\\Users\\ADMIN\\AppData\\Local\\Temp\\ipykernel_17760\\141964668.py\", line 76, in extract_info\n",
      "    matches = re.findall(pattern, text_content)\n",
      "              ^^\n",
      "UnboundLocalError: cannot access local variable 're' where it is not associated with a value\n",
      "Exception in Tkinter callback\n",
      "Traceback (most recent call last):\n",
      "  File \"C:\\Users\\ADMIN\\AppData\\Local\\Programs\\Python\\Python313\\Lib\\tkinter\\__init__.py\", line 2068, in __call__\n",
      "    return self.func(*args)\n",
      "           ~~~~~~~~~^^^^^^^\n",
      "  File \"C:\\Users\\ADMIN\\AppData\\Local\\Temp\\ipykernel_17760\\141964668.py\", line 76, in extract_info\n",
      "    matches = re.findall(pattern, text_content)\n",
      "              ^^\n",
      "UnboundLocalError: cannot access local variable 're' where it is not associated with a value\n",
      "Exception in Tkinter callback\n",
      "Traceback (most recent call last):\n",
      "  File \"C:\\Users\\ADMIN\\AppData\\Local\\Programs\\Python\\Python313\\Lib\\tkinter\\__init__.py\", line 2068, in __call__\n",
      "    return self.func(*args)\n",
      "           ~~~~~~~~~^^^^^^^\n",
      "  File \"C:\\Users\\ADMIN\\AppData\\Local\\Temp\\ipykernel_17760\\141964668.py\", line 76, in extract_info\n",
      "    matches = re.findall(pattern, text_content)\n",
      "              ^^\n",
      "UnboundLocalError: cannot access local variable 're' where it is not associated with a value\n",
      "Exception in Tkinter callback\n",
      "Traceback (most recent call last):\n",
      "  File \"C:\\Users\\ADMIN\\AppData\\Local\\Programs\\Python\\Python313\\Lib\\tkinter\\__init__.py\", line 2068, in __call__\n",
      "    return self.func(*args)\n",
      "           ~~~~~~~~~^^^^^^^\n",
      "  File \"C:\\Users\\ADMIN\\AppData\\Local\\Temp\\ipykernel_17760\\141964668.py\", line 76, in extract_info\n",
      "    matches = re.findall(pattern, text_content)\n",
      "              ^^\n",
      "UnboundLocalError: cannot access local variable 're' where it is not associated with a value\n",
      "Exception in Tkinter callback\n",
      "Traceback (most recent call last):\n",
      "  File \"C:\\Users\\ADMIN\\AppData\\Local\\Programs\\Python\\Python313\\Lib\\tkinter\\__init__.py\", line 2068, in __call__\n",
      "    return self.func(*args)\n",
      "           ~~~~~~~~~^^^^^^^\n",
      "  File \"C:\\Users\\ADMIN\\AppData\\Local\\Temp\\ipykernel_17760\\141964668.py\", line 76, in extract_info\n",
      "    matches = re.findall(pattern, text_content)\n",
      "              ^^\n",
      "UnboundLocalError: cannot access local variable 're' where it is not associated with a value\n",
      "Exception in Tkinter callback\n",
      "Traceback (most recent call last):\n",
      "  File \"C:\\Users\\ADMIN\\AppData\\Local\\Programs\\Python\\Python313\\Lib\\tkinter\\__init__.py\", line 2068, in __call__\n",
      "    return self.func(*args)\n",
      "           ~~~~~~~~~^^^^^^^\n",
      "  File \"C:\\Users\\ADMIN\\AppData\\Local\\Temp\\ipykernel_17760\\141964668.py\", line 76, in extract_info\n",
      "    matches = re.findall(pattern, text_content)\n",
      "              ^^\n",
      "UnboundLocalError: cannot access local variable 're' where it is not associated with a value\n",
      "Exception in Tkinter callback\n",
      "Traceback (most recent call last):\n",
      "  File \"C:\\Users\\ADMIN\\AppData\\Local\\Programs\\Python\\Python313\\Lib\\tkinter\\__init__.py\", line 2068, in __call__\n",
      "    return self.func(*args)\n",
      "           ~~~~~~~~~^^^^^^^\n",
      "  File \"C:\\Users\\ADMIN\\AppData\\Local\\Temp\\ipykernel_17760\\141964668.py\", line 76, in extract_info\n",
      "    matches = re.findall(pattern, text_content)\n",
      "              ^^\n",
      "UnboundLocalError: cannot access local variable 're' where it is not associated with a value\n",
      "Exception in Tkinter callback\n",
      "Traceback (most recent call last):\n",
      "  File \"C:\\Users\\ADMIN\\AppData\\Local\\Programs\\Python\\Python313\\Lib\\tkinter\\__init__.py\", line 2068, in __call__\n",
      "    return self.func(*args)\n",
      "           ~~~~~~~~~^^^^^^^\n",
      "  File \"C:\\Users\\ADMIN\\AppData\\Local\\Temp\\ipykernel_17760\\141964668.py\", line 76, in extract_info\n",
      "    matches = re.findall(pattern, text_content)\n",
      "              ^^\n",
      "UnboundLocalError: cannot access local variable 're' where it is not associated with a value\n",
      "Exception in Tkinter callback\n",
      "Traceback (most recent call last):\n",
      "  File \"C:\\Users\\ADMIN\\AppData\\Local\\Programs\\Python\\Python313\\Lib\\tkinter\\__init__.py\", line 2068, in __call__\n",
      "    return self.func(*args)\n",
      "           ~~~~~~~~~^^^^^^^\n",
      "  File \"C:\\Users\\ADMIN\\AppData\\Local\\Temp\\ipykernel_17760\\141964668.py\", line 76, in extract_info\n",
      "    matches = re.findall(pattern, text_content)\n",
      "              ^^\n",
      "UnboundLocalError: cannot access local variable 're' where it is not associated with a value\n",
      "Exception in Tkinter callback\n",
      "Traceback (most recent call last):\n",
      "  File \"C:\\Users\\ADMIN\\AppData\\Local\\Programs\\Python\\Python313\\Lib\\tkinter\\__init__.py\", line 2068, in __call__\n",
      "    return self.func(*args)\n",
      "           ~~~~~~~~~^^^^^^^\n",
      "  File \"C:\\Users\\ADMIN\\AppData\\Local\\Temp\\ipykernel_17760\\141964668.py\", line 76, in extract_info\n",
      "    matches = re.findall(pattern, text_content)\n",
      "              ^^\n",
      "UnboundLocalError: cannot access local variable 're' where it is not associated with a value\n",
      "Exception in Tkinter callback\n",
      "Traceback (most recent call last):\n",
      "  File \"C:\\Users\\ADMIN\\AppData\\Local\\Programs\\Python\\Python313\\Lib\\tkinter\\__init__.py\", line 2068, in __call__\n",
      "    return self.func(*args)\n",
      "           ~~~~~~~~~^^^^^^^\n",
      "  File \"C:\\Users\\ADMIN\\AppData\\Local\\Temp\\ipykernel_17760\\141964668.py\", line 76, in extract_info\n",
      "    matches = re.findall(pattern, text_content)\n",
      "              ^^\n",
      "UnboundLocalError: cannot access local variable 're' where it is not associated with a value\n"
     ]
    }
   ],
   "source": [
    "# Run the application\n",
    "root.mainloop()"
   ]
  },
  {
   "cell_type": "markdown",
   "id": "0472e8a7",
   "metadata": {},
   "source": [
    "## Step 6: Test the Application\n",
    "\n",
    "1. Save your Python script (e.g., app.py).\n",
    "2. Run the script from your terminal: `python app.py`.\n",
    "3. The GUI window \"Regex Information Extractor\" should appear.\n",
    "4. Click \"Open File\" and select a .txt file (you can use the sample_file.txt if one was provided with the activity, or create your own with some emails, phone numbers, and dates).\n",
    "5. The file content should appear in the top text area.\n",
    "6. Select an option from the \"Select Data Type to Extract:\" dropdown (e.g., \"Email Addresses\").\n",
    "7. Click the \"Extract\" button.\n",
    "8. The extracted information (or \"No matches found.\") should appear in the lower text area.\n",
    "9. Click \"Copy Results\" to copy the extracted text to your clipboard. A confirmation message should appear.\n",
    "10. Test with other extraction types and different files."
   ]
  }
 ],
 "metadata": {
  "kernelspec": {
   "display_name": "env",
   "language": "python",
   "name": "python3"
  },
  "language_info": {
   "codemirror_mode": {
    "name": "ipython",
    "version": 3
   },
   "file_extension": ".py",
   "mimetype": "text/x-python",
   "name": "python",
   "nbconvert_exporter": "python",
   "pygments_lexer": "ipython3",
   "version": "3.13.1"
  }
 },
 "nbformat": 4,
 "nbformat_minor": 5
}
