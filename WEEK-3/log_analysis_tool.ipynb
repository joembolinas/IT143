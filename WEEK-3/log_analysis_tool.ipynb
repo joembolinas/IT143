{
 "cells": [
  {
   "cell_type": "markdown",
   "id": "2771540f",
   "metadata": {},
   "source": [
    "# Log Analysis Tool: Hacker's Diary Investigation\n",
    "This notebook has been updated to analyze system access logs for suspicious login behavior, detect brute-force patterns, recover leaked credentials."
   ]
  },
  {
   "cell_type": "code",
   "execution_count": 1,
   "id": "dc70a7b1",
   "metadata": {},
   "outputs": [],
   "source": [
    "# Import Required Libraries\n",
    "import tkinter as tk\n",
    "from tkinter import filedialog\n",
    "from tkinter.scrolledtext import ScrolledText\n",
    "import re\n",
    "from collections import Counter"
   ]
  },
  {
   "cell_type": "code",
   "execution_count": 2,
   "id": "c194a587",
   "metadata": {},
   "outputs": [],
   "source": [
    "# Define Function to Open and Read Log File\n",
    "def open_log_file():\n",
    "    file_path = filedialog.askopenfilename(filetypes=[(\"Log files\", \"*.log\"), (\"All files\", \"*.*\")])\n",
    "    if file_path:\n",
    "        with open(file_path, 'r') as file:\n",
    "            log_text.delete(\"1.0\", tk.END)\n",
    "            log_text.insert(tk.END, file.read())"
   ]
  },
  {
   "cell_type": "code",
   "execution_count": 3,
   "id": "d452eccb",
   "metadata": {},
   "outputs": [],
   "source": [
    "# Define Function to Extract and Display Log Details\n",
    "def analyze_logs():\n",
    "    log_content = log_text.get(\"1.0\", tk.END)\n",
    "    ip_pattern = r\"\\b(?:[0-9]{1,3}\\.){3}[0-9]{1,3}\\b\"\n",
    "    request_pattern = r'\"(GET|POST|PUT|DELETE)'\n",
    "    status_pattern = r'\\s(\\d{3})\\s'\n",
    "\n",
    "    ips = re.findall(ip_pattern, log_content)\n",
    "    requests = re.findall(request_pattern, log_content)\n",
    "    statuses = re.findall(status_pattern, log_content)\n",
    "\n",
    "    ip_count = Counter(ips)\n",
    "    request_count = Counter(requests)\n",
    "    status_count = Counter(statuses)\n",
    "\n",
    "    result_text.delete(\"1.0\", tk.END)\n",
    "    result_text.insert(tk.END, \"IP Address Counts:\\n\")\n",
    "    for ip, count in ip_count.items():\n",
    "        result_text.insert(tk.END, f\"{ip}: {count}\\n\")\n",
    "\n",
    "    result_text.insert(tk.END, \"\\nRequest Type Counts:\\n\")\n",
    "    for req, count in request_count.items():\n",
    "        result_text.insert(tk.END, f\"{req}: {count}\\n\")\n",
    "\n",
    "    result_text.insert(tk.END, \"\\nStatus Code Counts:\\n\")\n",
    "    for status, count in status_count.items():\n",
    "        result_text.insert(tk.END, f\"{status}: {count}\\n\")"
   ]
  },
  {
   "cell_type": "code",
   "execution_count": 4,
   "id": "c54cda95",
   "metadata": {},
   "outputs": [],
   "source": [
    "# Define Function to Analyze Logs for Suspicious Behavior\n",
    "def analyze_logs_for_suspicious_activity(log_content):\n",
    "    failed_login_pattern = r\"Failed login attempt from (\\d+\\.\\d+\\.\\d+\\.\\d+) - User: (\\w+) - Password: (\\w+)\"\n",
    "    successful_login_pattern = r\"Successful login from (\\d+\\.\\d+\\.\\d+\\.\\d+) - User: (\\w+) - Password: (\\w+)\"\n",
    "    flag_pattern = r\"FLAG\\{.*?\\}\"\n",
    "\n",
    "    failed_logins = re.findall(failed_login_pattern, log_content)\n",
    "    successful_logins = re.findall(successful_login_pattern, log_content)\n",
    "    flags = re.findall(flag_pattern, log_content)\n",
    "\n",
    "    # Count failed login attempts by IP\n",
    "    failed_login_ips = Counter([entry[0] for entry in failed_logins])\n",
    "\n",
    "    # Display Results\n",
    "    result_text.insert(tk.END, \"Suspicious Login Behavior Detected:\\n\")\n",
    "    result_text.insert(tk.END, \"\\nFailed Login Attempts by IP:\\n\")\n",
    "    for ip, count in failed_login_ips.items():\n",
    "        result_text.insert(tk.END, f\"{ip}: {count} attempts\\n\")\n",
    "\n",
    "    result_text.insert(tk.END, \"\\nRecovered Credentials from Successful Logins:\\n\")\n",
    "    for entry in successful_logins:\n",
    "        result_text.insert(tk.END, f\"IP: {entry[0]}, User: {entry[1]}, Password: {entry[2]}\\n\")\n",
    "\n",
    "    if flags:\n",
    "        result_text.insert(tk.END, \"\\nHidden Flags Found:\\n\")\n",
    "        for flag in flags:\n",
    "            result_text.insert(tk.END, f\"{flag}\\n\")\n",
    "    else:\n",
    "        result_text.insert(tk.END, \"\\nNo Hidden Flags Found.\\n\")"
   ]
  },
  {
   "cell_type": "code",
   "execution_count": null,
   "id": "ee337c46",
   "metadata": {},
   "outputs": [],
   "source": [
    "# Create GUI Application\n",
    "root = tk.Tk()\n",
    "root.title(\"Log Analysis Tool\")\n",
    "\n",
    "frame = tk.Frame(root)\n",
    "frame.pack(pady=10)\n",
    "\n",
    "open_button = tk.Button(frame, text=\"Open Log File\", command=open_log_file)\n",
    "open_button.pack(side=tk.LEFT, padx=5)\n",
    "\n",
    "analyze_button = tk.Button(frame, text=\"Analyze Logs\", command=analyze_logs)\n",
    "analyze_button.pack(side=tk.LEFT, padx=5)\n",
    "\n",
    "suspicious_button = tk.Button(frame, text=\"Analyze Suspicious Activity\", command=lambda: analyze_logs_for_suspicious_activity(log_text.get(\"1.0\", tk.END)))\n",
    "suspicious_button.pack(side=tk.LEFT, padx=5)\n",
    "\n",
    "log_text = ScrolledText(root, width=80, height=20, wrap=tk.WORD)\n",
    "log_text.pack(padx=10, pady=10)\n",
    "\n",
    "result_text = ScrolledText(root, width=80, height=20, wrap=tk.WORD)\n",
    "result_text.pack(padx=10, pady=10)\n",
    "\n",
    "root.mainloop()"
   ]
  }
 ],
 "metadata": {
  "kernelspec": {
   "display_name": "env",
   "language": "python",
   "name": "python3"
  },
  "language_info": {
   "codemirror_mode": {
    "name": "ipython",
    "version": 3
   },
   "file_extension": ".py",
   "mimetype": "text/x-python",
   "name": "python",
   "nbconvert_exporter": "python",
   "pygments_lexer": "ipython3",
   "version": "3.13.1"
  }
 },
 "nbformat": 4,
 "nbformat_minor": 5
}
